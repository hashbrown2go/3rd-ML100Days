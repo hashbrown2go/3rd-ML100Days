{
 "cells": [
  {
   "cell_type": "markdown",
   "metadata": {},
   "source": [
    "## [作業目標]\n",
    "了解機器學習適合應用的領域與範疇。"
   ]
  },
  {
   "cell_type": "markdown",
   "metadata": {},
   "source": [
    "## [作業重點]\n",
    "透過瞭解機器學習的運作方式，找出非常適用機器學習應用的領域及其原因"
   ]
  },
  {
   "cell_type": "markdown",
   "metadata": {},
   "source": [
    "## 作業\n",
    "請找出一個你認為機器學習可以發光發熱的領域並闡述原因? "
   ]
  },
  {
   "cell_type": "markdown",
   "metadata": {},
   "source": [
    "# 醫學領域\n",
    "其實已經有很多正在進行中的研究\n",
    "前陣子發展的機器學習，主要應用在一些數據上的問題。恰巧醫學領域裡面有很多病人的「數值」是乍看之下觀察不到一個趨勢，而且沒辦法明確提出疾病相關性的，透過機器學習增加預測的準確度，可以讓醫學上在醫生判斷方面的輔助工具增加，誤診的機率也會下降。\n",
    "除此之外，還有最近蓬勃發展的影像辨識，應該也是目前醫學與AI結合的主流，例如X光、電腦斷層等等的。雖然我們在training的過程當中也會學不同疾病的判別，但機器學習的效率比人更好，我們花了四年加起來看過的影像，可能比不上電腦看一整天，而也有部分的討論在說電腦辨識肺癌的小結節的sensitivity比人腦人眼所判讀的還要高。而這僅僅是醫學的冰山一角，還有各種其他不同的影像，都還沒透過機器學習，或是CNN來進行模型預測。相信未來還有很多發展的空間，也有很高的機會可以發光發熱。"
   ]
  },
  {
   "cell_type": "code",
   "execution_count": null,
   "metadata": {},
   "outputs": [],
   "source": []
  }
 ],
 "metadata": {
  "kernelspec": {
   "display_name": "Python 3",
   "language": "python",
   "name": "python3"
  },
  "language_info": {
   "codemirror_mode": {
    "name": "ipython",
    "version": 3
   },
   "file_extension": ".py",
   "mimetype": "text/x-python",
   "name": "python",
   "nbconvert_exporter": "python",
   "pygments_lexer": "ipython3",
   "version": "3.6.7"
  }
 },
 "nbformat": 4,
 "nbformat_minor": 2
}
